{
  "nbformat": 4,
  "nbformat_minor": 0,
  "metadata": {
    "colab": {
      "name": "Bear_Prediction.ipynb",
      "provenance": [],
      "collapsed_sections": []
    },
    "kernelspec": {
      "name": "python3",
      "display_name": "Python 3"
    },
    "accelerator": "GPU",
    "widgets": {
      "application/vnd.jupyter.widget-state+json": {
        "dc1a2ec40693494cad332c77fdd69d60": {
          "model_module": "@jupyter-widgets/controls",
          "model_name": "HBoxModel",
          "state": {
            "_view_name": "HBoxView",
            "_dom_classes": [],
            "_model_name": "HBoxModel",
            "_view_module": "@jupyter-widgets/controls",
            "_model_module_version": "1.5.0",
            "_view_count": null,
            "_view_module_version": "1.5.0",
            "box_style": "",
            "layout": "IPY_MODEL_5d9e81eb7c094458948693bd4f35844c",
            "_model_module": "@jupyter-widgets/controls",
            "children": [
              "IPY_MODEL_5b28c468cc9a407f9eb1b00c04ed26ad",
              "IPY_MODEL_9de85566134044d1a923ba1cb44a9543"
            ]
          }
        },
        "5d9e81eb7c094458948693bd4f35844c": {
          "model_module": "@jupyter-widgets/base",
          "model_name": "LayoutModel",
          "state": {
            "_view_name": "LayoutView",
            "grid_template_rows": null,
            "right": null,
            "justify_content": null,
            "_view_module": "@jupyter-widgets/base",
            "overflow": null,
            "_model_module_version": "1.2.0",
            "_view_count": null,
            "flex_flow": null,
            "width": null,
            "min_width": null,
            "border": null,
            "align_items": null,
            "bottom": null,
            "_model_module": "@jupyter-widgets/base",
            "top": null,
            "grid_column": null,
            "overflow_y": null,
            "overflow_x": null,
            "grid_auto_flow": null,
            "grid_area": null,
            "grid_template_columns": null,
            "flex": null,
            "_model_name": "LayoutModel",
            "justify_items": null,
            "grid_row": null,
            "max_height": null,
            "align_content": null,
            "visibility": null,
            "align_self": null,
            "height": null,
            "min_height": null,
            "padding": null,
            "grid_auto_rows": null,
            "grid_gap": null,
            "max_width": null,
            "order": null,
            "_view_module_version": "1.2.0",
            "grid_template_areas": null,
            "object_position": null,
            "object_fit": null,
            "grid_auto_columns": null,
            "margin": null,
            "display": null,
            "left": null
          }
        },
        "5b28c468cc9a407f9eb1b00c04ed26ad": {
          "model_module": "@jupyter-widgets/controls",
          "model_name": "FloatProgressModel",
          "state": {
            "_view_name": "ProgressView",
            "style": "IPY_MODEL_97d6c6e855e447148265d2ea46c4889e",
            "_dom_classes": [],
            "description": "100%",
            "_model_name": "FloatProgressModel",
            "bar_style": "success",
            "max": 87306240,
            "_view_module": "@jupyter-widgets/controls",
            "_model_module_version": "1.5.0",
            "value": 87306240,
            "_view_count": null,
            "_view_module_version": "1.5.0",
            "orientation": "horizontal",
            "min": 0,
            "description_tooltip": null,
            "_model_module": "@jupyter-widgets/controls",
            "layout": "IPY_MODEL_27bc88f99674487a8bf0ec6438c74d88"
          }
        },
        "9de85566134044d1a923ba1cb44a9543": {
          "model_module": "@jupyter-widgets/controls",
          "model_name": "HTMLModel",
          "state": {
            "_view_name": "HTMLView",
            "style": "IPY_MODEL_7935f9dc8256443e9e522cf5ce7a2f6a",
            "_dom_classes": [],
            "description": "",
            "_model_name": "HTMLModel",
            "placeholder": "​",
            "_view_module": "@jupyter-widgets/controls",
            "_model_module_version": "1.5.0",
            "value": " 83.3M/83.3M [11:41&lt;00:00, 124kB/s]",
            "_view_count": null,
            "_view_module_version": "1.5.0",
            "description_tooltip": null,
            "_model_module": "@jupyter-widgets/controls",
            "layout": "IPY_MODEL_811e0b779bb7493a8cf073ae0323540a"
          }
        },
        "97d6c6e855e447148265d2ea46c4889e": {
          "model_module": "@jupyter-widgets/controls",
          "model_name": "ProgressStyleModel",
          "state": {
            "_view_name": "StyleView",
            "_model_name": "ProgressStyleModel",
            "description_width": "initial",
            "_view_module": "@jupyter-widgets/base",
            "_model_module_version": "1.5.0",
            "_view_count": null,
            "_view_module_version": "1.2.0",
            "bar_color": null,
            "_model_module": "@jupyter-widgets/controls"
          }
        },
        "27bc88f99674487a8bf0ec6438c74d88": {
          "model_module": "@jupyter-widgets/base",
          "model_name": "LayoutModel",
          "state": {
            "_view_name": "LayoutView",
            "grid_template_rows": null,
            "right": null,
            "justify_content": null,
            "_view_module": "@jupyter-widgets/base",
            "overflow": null,
            "_model_module_version": "1.2.0",
            "_view_count": null,
            "flex_flow": null,
            "width": null,
            "min_width": null,
            "border": null,
            "align_items": null,
            "bottom": null,
            "_model_module": "@jupyter-widgets/base",
            "top": null,
            "grid_column": null,
            "overflow_y": null,
            "overflow_x": null,
            "grid_auto_flow": null,
            "grid_area": null,
            "grid_template_columns": null,
            "flex": null,
            "_model_name": "LayoutModel",
            "justify_items": null,
            "grid_row": null,
            "max_height": null,
            "align_content": null,
            "visibility": null,
            "align_self": null,
            "height": null,
            "min_height": null,
            "padding": null,
            "grid_auto_rows": null,
            "grid_gap": null,
            "max_width": null,
            "order": null,
            "_view_module_version": "1.2.0",
            "grid_template_areas": null,
            "object_position": null,
            "object_fit": null,
            "grid_auto_columns": null,
            "margin": null,
            "display": null,
            "left": null
          }
        },
        "7935f9dc8256443e9e522cf5ce7a2f6a": {
          "model_module": "@jupyter-widgets/controls",
          "model_name": "DescriptionStyleModel",
          "state": {
            "_view_name": "StyleView",
            "_model_name": "DescriptionStyleModel",
            "description_width": "",
            "_view_module": "@jupyter-widgets/base",
            "_model_module_version": "1.5.0",
            "_view_count": null,
            "_view_module_version": "1.2.0",
            "_model_module": "@jupyter-widgets/controls"
          }
        },
        "811e0b779bb7493a8cf073ae0323540a": {
          "model_module": "@jupyter-widgets/base",
          "model_name": "LayoutModel",
          "state": {
            "_view_name": "LayoutView",
            "grid_template_rows": null,
            "right": null,
            "justify_content": null,
            "_view_module": "@jupyter-widgets/base",
            "overflow": null,
            "_model_module_version": "1.2.0",
            "_view_count": null,
            "flex_flow": null,
            "width": null,
            "min_width": null,
            "border": null,
            "align_items": null,
            "bottom": null,
            "_model_module": "@jupyter-widgets/base",
            "top": null,
            "grid_column": null,
            "overflow_y": null,
            "overflow_x": null,
            "grid_auto_flow": null,
            "grid_area": null,
            "grid_template_columns": null,
            "flex": null,
            "_model_name": "LayoutModel",
            "justify_items": null,
            "grid_row": null,
            "max_height": null,
            "align_content": null,
            "visibility": null,
            "align_self": null,
            "height": null,
            "min_height": null,
            "padding": null,
            "grid_auto_rows": null,
            "grid_gap": null,
            "max_width": null,
            "order": null,
            "_view_module_version": "1.2.0",
            "grid_template_areas": null,
            "object_position": null,
            "object_fit": null,
            "grid_auto_columns": null,
            "margin": null,
            "display": null,
            "left": null
          }
        }
      }
    }
  },
  "cells": [
    {
      "cell_type": "markdown",
      "metadata": {
        "id": "qbuYfyfPHczG",
        "colab_type": "text"
      },
      "source": [
        "This is a Bear Prediction classifier for black bear, grizzly bear and teddy bear. I have used Resnet-30 model for this classifier. This was inspired by Fastai course."
      ]
    },
    {
      "cell_type": "code",
      "metadata": {
        "id": "CA-XLSXU2WFb",
        "colab_type": "code",
        "colab": {}
      },
      "source": [
        "import torch\n",
        "import torchvision\n",
        "import pandas as pd\n",
        "import numpy as np\n",
        "import os\n",
        "import matplotlib.pyplot as plt"
      ],
      "execution_count": 1,
      "outputs": []
    },
    {
      "cell_type": "code",
      "metadata": {
        "id": "ZRvrwnF42ijH",
        "colab_type": "code",
        "colab": {
          "base_uri": "https://localhost:8080/",
          "height": 125
        },
        "outputId": "619b5c1d-8b10-4afe-df45-ff2af0b21bb9"
      },
      "source": [
        "from google.colab import drive\n",
        "drive.mount('/content/drive')"
      ],
      "execution_count": 2,
      "outputs": [
        {
          "output_type": "stream",
          "text": [
            "Go to this URL in a browser: https://accounts.google.com/o/oauth2/auth?client_id=947318989803-6bn6qk8qdgf4n4g3pfee6491hc0brc4i.apps.googleusercontent.com&redirect_uri=urn%3aietf%3awg%3aoauth%3a2.0%3aoob&response_type=code&scope=email%20https%3a%2f%2fwww.googleapis.com%2fauth%2fdocs.test%20https%3a%2f%2fwww.googleapis.com%2fauth%2fdrive%20https%3a%2f%2fwww.googleapis.com%2fauth%2fdrive.photos.readonly%20https%3a%2f%2fwww.googleapis.com%2fauth%2fpeopleapi.readonly\n",
            "\n",
            "Enter your authorization code:\n",
            "··········\n",
            "Mounted at /content/drive\n"
          ],
          "name": "stdout"
        }
      ]
    },
    {
      "cell_type": "markdown",
      "metadata": {
        "id": "dD88zhSfH_r7",
        "colab_type": "text"
      },
      "source": [
        "I have downloaded the pictures using this Javascript function. \n",
        "\n",
        "Javascript code to download images: \n",
        "\n",
        "urls=Array.from(document.querySelectorAll('.rg_i')).map(el=> el.hasAttribute('data-src')?el.getAttribute('data-src'):el.getAttribute('data-iurl'));\n",
        "window.open('data:text/csv;charset=utf-8,' + escape(urls.join('\\n')))\n",
        ";\n",
        "\n",
        "Insert this code in console of the browser.\n",
        "\n"
      ]
    },
    {
      "cell_type": "code",
      "metadata": {
        "id": "O_NOfNT03Soh",
        "colab_type": "code",
        "colab": {}
      },
      "source": [
        "#Download pictures for the dataset from the csv files\n",
        "#It is still incomplete and need to find a better way to download the pictures\n",
        "\n",
        "import urllib\n",
        "import requests\n",
        "\n",
        "def download_pictures(filename):\n",
        "  picture_file = open(filename,\"r\")\n",
        "  data = picture_file.read()\n",
        "  data = data.split('\\n')\n",
        "  j = 0\n",
        "  for i in data:\n",
        "    if i!='':\n",
        "      urllib.request.urlretrieve(i,\"/content/drive/My Drive/Colab Notebooks/Bear_Prediction/TeddyBears/tb%d.jpg\"%j)\n",
        "      j+=1\n",
        "\n",
        "download_pictures('/content/drive/My Drive/Colab Notebooks/Bear_Prediction/TeddyBears/teddybears.csv')"
      ],
      "execution_count": 3,
      "outputs": []
    },
    {
      "cell_type": "code",
      "metadata": {
        "id": "8XczHuBE5I2_",
        "colab_type": "code",
        "colab": {}
      },
      "source": [
        "# Pictures have been downloaded"
      ],
      "execution_count": null,
      "outputs": []
    },
    {
      "cell_type": "code",
      "metadata": {
        "id": "HAz2VpBoDvuf",
        "colab_type": "code",
        "colab": {}
      },
      "source": [
        "import matplotlib.pyplot as plt\n",
        "import matplotlib.image as mpimg\n",
        "import cv2"
      ],
      "execution_count": 4,
      "outputs": []
    },
    {
      "cell_type": "code",
      "metadata": {
        "id": "BnKnYbSRdQHj",
        "colab_type": "code",
        "colab": {
          "base_uri": "https://localhost:8080/",
          "height": 54
        },
        "outputId": "8ae4de5f-7e71-485d-f3c5-ce47708cf85a"
      },
      "source": [
        "#loading images and converting into a numpy array\n",
        "\n",
        "image_path = '/content/drive/My Drive/Colab Notebooks/Bear_Prediction' #main folder. the images are in the subfolder\n",
        "\n",
        "def get_image(path):\n",
        "  image_files = sorted([os.path.join(path, file)\n",
        "         for file in os.listdir(path) if file.endswith('.jpg')])\n",
        " \n",
        "  return image_files\n",
        "\n",
        "\n",
        "tb = get_image('/content/drive/My Drive/Colab Notebooks/Bear_Prediction'+'/TeddyBears')\n",
        "bb = get_image('/content/drive/My Drive/Colab Notebooks/Bear_Prediction'+'/BlackBears')\n",
        "gb = get_image('/content/drive/My Drive/Colab Notebooks/Bear_Prediction'+'/GrizzlyBears')\n",
        "\n",
        "print(tb)"
      ],
      "execution_count": 5,
      "outputs": [
        {
          "output_type": "stream",
          "text": [
            "['/content/drive/My Drive/Colab Notebooks/Bear_Prediction/TeddyBears/tb0.jpg', '/content/drive/My Drive/Colab Notebooks/Bear_Prediction/TeddyBears/tb1.jpg', '/content/drive/My Drive/Colab Notebooks/Bear_Prediction/TeddyBears/tb10.jpg', '/content/drive/My Drive/Colab Notebooks/Bear_Prediction/TeddyBears/tb11.jpg', '/content/drive/My Drive/Colab Notebooks/Bear_Prediction/TeddyBears/tb12.jpg', '/content/drive/My Drive/Colab Notebooks/Bear_Prediction/TeddyBears/tb13.jpg', '/content/drive/My Drive/Colab Notebooks/Bear_Prediction/TeddyBears/tb14.jpg', '/content/drive/My Drive/Colab Notebooks/Bear_Prediction/TeddyBears/tb15.jpg', '/content/drive/My Drive/Colab Notebooks/Bear_Prediction/TeddyBears/tb16.jpg', '/content/drive/My Drive/Colab Notebooks/Bear_Prediction/TeddyBears/tb17.jpg', '/content/drive/My Drive/Colab Notebooks/Bear_Prediction/TeddyBears/tb18.jpg', '/content/drive/My Drive/Colab Notebooks/Bear_Prediction/TeddyBears/tb19.jpg', '/content/drive/My Drive/Colab Notebooks/Bear_Prediction/TeddyBears/tb2.jpg', '/content/drive/My Drive/Colab Notebooks/Bear_Prediction/TeddyBears/tb20.jpg', '/content/drive/My Drive/Colab Notebooks/Bear_Prediction/TeddyBears/tb21.jpg', '/content/drive/My Drive/Colab Notebooks/Bear_Prediction/TeddyBears/tb22.jpg', '/content/drive/My Drive/Colab Notebooks/Bear_Prediction/TeddyBears/tb23.jpg', '/content/drive/My Drive/Colab Notebooks/Bear_Prediction/TeddyBears/tb24.jpg', '/content/drive/My Drive/Colab Notebooks/Bear_Prediction/TeddyBears/tb25.jpg', '/content/drive/My Drive/Colab Notebooks/Bear_Prediction/TeddyBears/tb26.jpg', '/content/drive/My Drive/Colab Notebooks/Bear_Prediction/TeddyBears/tb27.jpg', '/content/drive/My Drive/Colab Notebooks/Bear_Prediction/TeddyBears/tb28.jpg', '/content/drive/My Drive/Colab Notebooks/Bear_Prediction/TeddyBears/tb29.jpg', '/content/drive/My Drive/Colab Notebooks/Bear_Prediction/TeddyBears/tb3.jpg', '/content/drive/My Drive/Colab Notebooks/Bear_Prediction/TeddyBears/tb30.jpg', '/content/drive/My Drive/Colab Notebooks/Bear_Prediction/TeddyBears/tb31.jpg', '/content/drive/My Drive/Colab Notebooks/Bear_Prediction/TeddyBears/tb32.jpg', '/content/drive/My Drive/Colab Notebooks/Bear_Prediction/TeddyBears/tb33.jpg', '/content/drive/My Drive/Colab Notebooks/Bear_Prediction/TeddyBears/tb34.jpg', '/content/drive/My Drive/Colab Notebooks/Bear_Prediction/TeddyBears/tb35.jpg', '/content/drive/My Drive/Colab Notebooks/Bear_Prediction/TeddyBears/tb36.jpg', '/content/drive/My Drive/Colab Notebooks/Bear_Prediction/TeddyBears/tb37.jpg', '/content/drive/My Drive/Colab Notebooks/Bear_Prediction/TeddyBears/tb38.jpg', '/content/drive/My Drive/Colab Notebooks/Bear_Prediction/TeddyBears/tb39.jpg', '/content/drive/My Drive/Colab Notebooks/Bear_Prediction/TeddyBears/tb4.jpg', '/content/drive/My Drive/Colab Notebooks/Bear_Prediction/TeddyBears/tb40.jpg', '/content/drive/My Drive/Colab Notebooks/Bear_Prediction/TeddyBears/tb41.jpg', '/content/drive/My Drive/Colab Notebooks/Bear_Prediction/TeddyBears/tb42.jpg', '/content/drive/My Drive/Colab Notebooks/Bear_Prediction/TeddyBears/tb43.jpg', '/content/drive/My Drive/Colab Notebooks/Bear_Prediction/TeddyBears/tb44.jpg', '/content/drive/My Drive/Colab Notebooks/Bear_Prediction/TeddyBears/tb45.jpg', '/content/drive/My Drive/Colab Notebooks/Bear_Prediction/TeddyBears/tb46.jpg', '/content/drive/My Drive/Colab Notebooks/Bear_Prediction/TeddyBears/tb47.jpg', '/content/drive/My Drive/Colab Notebooks/Bear_Prediction/TeddyBears/tb48.jpg', '/content/drive/My Drive/Colab Notebooks/Bear_Prediction/TeddyBears/tb49.jpg', '/content/drive/My Drive/Colab Notebooks/Bear_Prediction/TeddyBears/tb5.jpg', '/content/drive/My Drive/Colab Notebooks/Bear_Prediction/TeddyBears/tb50.jpg', '/content/drive/My Drive/Colab Notebooks/Bear_Prediction/TeddyBears/tb51.jpg', '/content/drive/My Drive/Colab Notebooks/Bear_Prediction/TeddyBears/tb52.jpg', '/content/drive/My Drive/Colab Notebooks/Bear_Prediction/TeddyBears/tb53.jpg', '/content/drive/My Drive/Colab Notebooks/Bear_Prediction/TeddyBears/tb54.jpg', '/content/drive/My Drive/Colab Notebooks/Bear_Prediction/TeddyBears/tb55.jpg', '/content/drive/My Drive/Colab Notebooks/Bear_Prediction/TeddyBears/tb56.jpg', '/content/drive/My Drive/Colab Notebooks/Bear_Prediction/TeddyBears/tb57.jpg', '/content/drive/My Drive/Colab Notebooks/Bear_Prediction/TeddyBears/tb58.jpg', '/content/drive/My Drive/Colab Notebooks/Bear_Prediction/TeddyBears/tb59.jpg', '/content/drive/My Drive/Colab Notebooks/Bear_Prediction/TeddyBears/tb6.jpg', '/content/drive/My Drive/Colab Notebooks/Bear_Prediction/TeddyBears/tb60.jpg', '/content/drive/My Drive/Colab Notebooks/Bear_Prediction/TeddyBears/tb61.jpg', '/content/drive/My Drive/Colab Notebooks/Bear_Prediction/TeddyBears/tb62.jpg', '/content/drive/My Drive/Colab Notebooks/Bear_Prediction/TeddyBears/tb63.jpg', '/content/drive/My Drive/Colab Notebooks/Bear_Prediction/TeddyBears/tb64.jpg', '/content/drive/My Drive/Colab Notebooks/Bear_Prediction/TeddyBears/tb65.jpg', '/content/drive/My Drive/Colab Notebooks/Bear_Prediction/TeddyBears/tb66.jpg', '/content/drive/My Drive/Colab Notebooks/Bear_Prediction/TeddyBears/tb67.jpg', '/content/drive/My Drive/Colab Notebooks/Bear_Prediction/TeddyBears/tb68.jpg', '/content/drive/My Drive/Colab Notebooks/Bear_Prediction/TeddyBears/tb69.jpg', '/content/drive/My Drive/Colab Notebooks/Bear_Prediction/TeddyBears/tb7.jpg', '/content/drive/My Drive/Colab Notebooks/Bear_Prediction/TeddyBears/tb70.jpg', '/content/drive/My Drive/Colab Notebooks/Bear_Prediction/TeddyBears/tb71.jpg', '/content/drive/My Drive/Colab Notebooks/Bear_Prediction/TeddyBears/tb72.jpg', '/content/drive/My Drive/Colab Notebooks/Bear_Prediction/TeddyBears/tb73.jpg', '/content/drive/My Drive/Colab Notebooks/Bear_Prediction/TeddyBears/tb74.jpg', '/content/drive/My Drive/Colab Notebooks/Bear_Prediction/TeddyBears/tb75.jpg', '/content/drive/My Drive/Colab Notebooks/Bear_Prediction/TeddyBears/tb76.jpg', '/content/drive/My Drive/Colab Notebooks/Bear_Prediction/TeddyBears/tb77.jpg', '/content/drive/My Drive/Colab Notebooks/Bear_Prediction/TeddyBears/tb78.jpg', '/content/drive/My Drive/Colab Notebooks/Bear_Prediction/TeddyBears/tb79.jpg', '/content/drive/My Drive/Colab Notebooks/Bear_Prediction/TeddyBears/tb8.jpg', '/content/drive/My Drive/Colab Notebooks/Bear_Prediction/TeddyBears/tb9.jpg']\n"
          ],
          "name": "stdout"
        }
      ]
    },
    {
      "cell_type": "code",
      "metadata": {
        "id": "stwC1ujpexam",
        "colab_type": "code",
        "colab": {}
      },
      "source": [
        "from PIL import Image \n",
        "\n",
        "x = []\n",
        "y = []\n",
        "d = []\n",
        "\n",
        "def image_resize(image_array):\n",
        "  WIDTH = 220\n",
        "  HEIGHT = 220\n",
        "  for i in image_array:\n",
        "    full_size_image = cv2.imread(i)\n",
        "    x.append(cv2.resize(full_size_image, (WIDTH,HEIGHT), interpolation=cv2.INTER_CUBIC))\n",
        "\n",
        "    if \"tb\"in i:\n",
        "      y.append(1)\n",
        "    elif \"bb\"in i:\n",
        "      y.append(2)\n",
        "    elif \"gb\" in i:\n",
        "      y.append(3)\n",
        "    else:\n",
        "      y.append(0)\n",
        "\n",
        "image_resize(tb)\n",
        "image_resize(bb)\n",
        "image_resize(gb)"
      ],
      "execution_count": 6,
      "outputs": []
    },
    {
      "cell_type": "code",
      "metadata": {
        "id": "B4aFakvLfMAj",
        "colab_type": "code",
        "colab": {}
      },
      "source": [
        "\n",
        "d = []\n",
        "\n",
        "def image_resize(image_array):\n",
        "  WIDTH = 220\n",
        "  HEIGHT = 220\n",
        "  for i in image_array:\n",
        "    full_size_image = cv2.imread(i)\n",
        "    img = cv2.resize(full_size_image, (WIDTH,HEIGHT), interpolation=cv2.INTER_CUBIC)\n",
        "    image = np.array(cv2.GaussianBlur(img, (5, 5), 0))\n",
        "    final_img = np.rollaxis(image,2,0)\n",
        "\n",
        "    if \"tb\"in i:\n",
        "      label = 0\n",
        "    elif \"bb\"in i:\n",
        "      label = 1\n",
        "    elif \"gb\" in i:\n",
        "      label = 2\n",
        "    else:\n",
        "      label = 0\n",
        "\n",
        "    d.append((final_img,label))\n",
        "\n",
        "    \n",
        "\n",
        "image_resize(tb)\n",
        "image_resize(bb)\n",
        "image_resize(gb)"
      ],
      "execution_count": 7,
      "outputs": []
    },
    {
      "cell_type": "code",
      "metadata": {
        "id": "pkgYRXQXmSJS",
        "colab_type": "code",
        "colab": {}
      },
      "source": [
        "d = tuple(d)\n"
      ],
      "execution_count": 8,
      "outputs": []
    },
    {
      "cell_type": "code",
      "metadata": {
        "id": "81vnYv5xmVJf",
        "colab_type": "code",
        "colab": {}
      },
      "source": [
        "x1 = []\n",
        "def noise_reduction(array):\n",
        "  \n",
        "  for i in range(len(array)):\n",
        "    blur = cv2.GaussianBlur(array[i], (5, 5), 0)\n",
        "    x1.append(blur)\n",
        "\n",
        "noise_reduction(x)\n"
      ],
      "execution_count": 9,
      "outputs": []
    },
    {
      "cell_type": "code",
      "metadata": {
        "id": "nOZr-wYwRglh",
        "colab_type": "code",
        "colab": {
          "base_uri": "https://localhost:8080/",
          "height": 34
        },
        "outputId": "2f240e6f-4fd8-4cee-e2f3-31639bd3ce8c"
      },
      "source": [
        "x1 = np.array(x1)\n",
        "x1 = np.rollaxis(x1,3,1)\n",
        "df = pd.DataFrame()\n",
        "\n",
        "print(x1.shape)\n",
        "# df[\"labels\"]=y\n",
        "\n",
        "# df.images[0].shape\n",
        "# plt.imshow(df.images[190])\n",
        "# dataset = df.to_numpy()\n",
        "# print(df.info())\n",
        "\n"
      ],
      "execution_count": 10,
      "outputs": [
        {
          "output_type": "stream",
          "text": [
            "(241, 3, 220, 220)\n"
          ],
          "name": "stdout"
        }
      ]
    },
    {
      "cell_type": "code",
      "metadata": {
        "id": "k6dc18JpWxsU",
        "colab_type": "code",
        "colab": {}
      },
      "source": [
        "x = np.ones((640, 480, 3))\n",
        "y = np.transpose(x, (2, 1, 0))\n"
      ],
      "execution_count": 11,
      "outputs": []
    },
    {
      "cell_type": "code",
      "metadata": {
        "id": "1GMXbSV99Lh0",
        "colab_type": "code",
        "colab": {}
      },
      "source": [
        "# # d = np.concatenate((np.array(x1),np.array(y).T),axis = 0)\n",
        "# # print(d)\n",
        "# print(np.array(y).shape)\n",
        "# d = torch.utils.data.TensorDataset(np.array(x1))"
      ],
      "execution_count": 12,
      "outputs": []
    },
    {
      "cell_type": "code",
      "metadata": {
        "id": "G4-fEn4LSR2G",
        "colab_type": "code",
        "colab": {
          "base_uri": "https://localhost:8080/",
          "height": 34
        },
        "outputId": "e0be7682-6c87-42e0-ef30-91e3a52dda77"
      },
      "source": [
        "def tup(df):\n",
        "  return [tuple(x) for x in df.to_numpy()]\n",
        "\n",
        "data = np.array(tup(df))\n",
        "print(data.shape)"
      ],
      "execution_count": 13,
      "outputs": [
        {
          "output_type": "stream",
          "text": [
            "(0,)\n"
          ],
          "name": "stdout"
        }
      ]
    },
    {
      "cell_type": "code",
      "metadata": {
        "id": "HJgTII5JSxyb",
        "colab_type": "code",
        "colab": {}
      },
      "source": [
        ""
      ],
      "execution_count": null,
      "outputs": []
    },
    {
      "cell_type": "code",
      "metadata": {
        "id": "r59l8oRnbWsj",
        "colab_type": "code",
        "colab": {
          "base_uri": "https://localhost:8080/",
          "height": 34
        },
        "outputId": "010d07d4-e2de-45fd-c037-f01989687b37"
      },
      "source": [
        "#spliting of data into train and validation set\n",
        "batch_size = 10\n",
        "validation_split = .2\n",
        "random_seed = 42\n",
        "\n",
        "dataset_size = len(d)\n",
        "indices = list(range(dataset_size))\n",
        "# print(indices)\n",
        "split = int(np.floor(validation_split * dataset_size))\n",
        "# print(split)\n",
        "shuffle_dataset = True\n",
        "if shuffle_dataset:\n",
        "  np.random.seed(random_seed)\n",
        "  np.random.shuffle(indices)\n",
        "\n",
        "# print(indices)\n",
        "\n",
        "train_indices, val_indices = indices[split:], indices[:split]\n",
        "# print(val_indices)\n",
        "\n",
        "train_sampler = torch.utils.data.SubsetRandomSampler(train_indices)\n",
        "val_sampler = torch.utils.data.SubsetRandomSampler(val_indices)\n",
        "\n",
        "train_loader = torch.utils.data.DataLoader(d, batch_size=batch_size,sampler=train_sampler)\n",
        "validation_loader = torch.utils.data.DataLoader(d, batch_size=batch_size,sampler=val_sampler)\n",
        "\n",
        "print(train_sampler)"
      ],
      "execution_count": 14,
      "outputs": [
        {
          "output_type": "stream",
          "text": [
            "<torch.utils.data.sampler.SubsetRandomSampler object at 0x7f4786ae6588>\n"
          ],
          "name": "stdout"
        }
      ]
    },
    {
      "cell_type": "code",
      "metadata": {
        "id": "Q2Bdwd1RRARf",
        "colab_type": "code",
        "colab": {
          "base_uri": "https://localhost:8080/",
          "height": 34
        },
        "outputId": "b33f3e51-39ed-4590-e499-742866f2f8ad"
      },
      "source": [
        "dataiter = iter(train_loader)\n",
        "images, labels = dataiter.next()\n",
        "images.size(), labels.size()"
      ],
      "execution_count": 15,
      "outputs": [
        {
          "output_type": "execute_result",
          "data": {
            "text/plain": [
              "(torch.Size([10, 3, 220, 220]), torch.Size([10]))"
            ]
          },
          "metadata": {
            "tags": []
          },
          "execution_count": 15
        }
      ]
    },
    {
      "cell_type": "code",
      "metadata": {
        "id": "pEYrkxoeExIe",
        "colab_type": "code",
        "colab": {}
      },
      "source": [
        ""
      ],
      "execution_count": null,
      "outputs": []
    },
    {
      "cell_type": "code",
      "metadata": {
        "id": "EGKsenBFbX6O",
        "colab_type": "code",
        "colab": {
          "base_uri": "https://localhost:8080/",
          "height": 84,
          "referenced_widgets": [
            "dc1a2ec40693494cad332c77fdd69d60",
            "5d9e81eb7c094458948693bd4f35844c",
            "5b28c468cc9a407f9eb1b00c04ed26ad",
            "9de85566134044d1a923ba1cb44a9543",
            "97d6c6e855e447148265d2ea46c4889e",
            "27bc88f99674487a8bf0ec6438c74d88",
            "7935f9dc8256443e9e522cf5ce7a2f6a",
            "811e0b779bb7493a8cf073ae0323540a"
          ]
        },
        "outputId": "88dcd294-969d-4ce3-bb5c-5e079148131e"
      },
      "source": [
        "\n",
        "model = torchvision.models.resnet34(pretrained = True)\n"
      ],
      "execution_count": 16,
      "outputs": [
        {
          "output_type": "stream",
          "text": [
            "Downloading: \"https://download.pytorch.org/models/resnet34-333f7ec4.pth\" to /root/.cache/torch/checkpoints/resnet34-333f7ec4.pth\n"
          ],
          "name": "stderr"
        },
        {
          "output_type": "display_data",
          "data": {
            "application/vnd.jupyter.widget-view+json": {
              "model_id": "dc1a2ec40693494cad332c77fdd69d60",
              "version_minor": 0,
              "version_major": 2
            },
            "text/plain": [
              "HBox(children=(FloatProgress(value=0.0, max=87306240.0), HTML(value='')))"
            ]
          },
          "metadata": {
            "tags": []
          }
        },
        {
          "output_type": "stream",
          "text": [
            "\n"
          ],
          "name": "stdout"
        }
      ]
    },
    {
      "cell_type": "code",
      "metadata": {
        "id": "RMdr7KIMibqf",
        "colab_type": "code",
        "colab": {}
      },
      "source": [
        "# print(model)"
      ],
      "execution_count": null,
      "outputs": []
    },
    {
      "cell_type": "code",
      "metadata": {
        "id": "v64XoflkkifX",
        "colab_type": "code",
        "colab": {}
      },
      "source": [
        "#initializing model\n",
        "\n",
        "def set_parameter_requires_grad(model, feature_extracting):\n",
        "    if feature_extracting:\n",
        "        for param in model.parameters():\n",
        "            param.requires_grad = False\n",
        "\n",
        "num = model.fc.in_features\n",
        "set_parameter_requires_grad(model,True)\n",
        "num_classes = 3\n",
        "model.fc = torch.nn.Linear(num,num_classes)"
      ],
      "execution_count": 17,
      "outputs": []
    },
    {
      "cell_type": "code",
      "metadata": {
        "id": "FFASztmOoFAS",
        "colab_type": "code",
        "colab": {
          "base_uri": "https://localhost:8080/",
          "height": 70
        },
        "outputId": "f0bf1bb0-1a64-42f4-bbe1-c5140d2bb1a2"
      },
      "source": [
        "#optimizing\n",
        "#We will only update the last parameters. \n",
        "\n",
        "params_to_update = model.parameters()\n",
        "print(params_to_update)\n",
        "params_to_update = []\n",
        "for name,param in model.named_parameters():\n",
        "  if param.requires_grad == True:\n",
        "    params_to_update.append(param)\n",
        "    print(\"\\t\",name)\n",
        "\n",
        "optimizer_ft = torch.optim.SGD(params_to_update, lr=0.001, momentum=0.9)"
      ],
      "execution_count": 18,
      "outputs": [
        {
          "output_type": "stream",
          "text": [
            "<generator object Module.parameters at 0x7f47855d5f68>\n",
            "\t fc.weight\n",
            "\t fc.bias\n"
          ],
          "name": "stdout"
        }
      ]
    },
    {
      "cell_type": "code",
      "metadata": {
        "id": "MsWRxTym39sU",
        "colab_type": "code",
        "colab": {}
      },
      "source": [
        "#CrossEntropyLoss() requires a 1-D tensor of class indices of the target (outputs in your case) but not one-hot vectors of the target.\n",
        "criterion = torch.nn.CrossEntropyLoss() "
      ],
      "execution_count": 19,
      "outputs": []
    },
    {
      "cell_type": "code",
      "metadata": {
        "id": "BUGD91utl8su",
        "colab_type": "code",
        "colab": {
          "base_uri": "https://localhost:8080/",
          "height": 1000
        },
        "outputId": "f848e0dd-448d-4c82-9868-2567e7b84e4e"
      },
      "source": [
        "#training\n",
        "print(\"Training...\\n\")\n",
        "num_of_epochs = 20\n",
        "running_loss_list = []\n",
        "for epoch in range(num_of_epochs):\n",
        "  running_loss = 0.0\n",
        "  for i, data in enumerate(train_loader,0):\n",
        "    inputs, labels = data\n",
        "    # print(labels)\n",
        "\n",
        "\n",
        "    optimizer_ft.zero_grad()\n",
        "\n",
        "    outputs = model(inputs.float())\n",
        "    loss = criterion(outputs, labels)\n",
        "    loss.backward()\n",
        "    optimizer_ft.step()\n",
        "\n",
        "    running_loss+=loss.item()\n",
        "\n",
        "    print('[%d, %5d] loss: %.3f' %(epoch + 1, i + 1, running_loss))\n",
        "    running_loss_list.append(running_loss)\n",
        "    running_loss = 0.0\n",
        "\n"
      ],
      "execution_count": 20,
      "outputs": [
        {
          "output_type": "stream",
          "text": [
            "Training...\n",
            "\n",
            "[1,     1] loss: 1.131\n",
            "[1,     2] loss: 1.147\n",
            "[1,     3] loss: 0.997\n",
            "[1,     4] loss: 0.938\n",
            "[1,     5] loss: 0.857\n",
            "[1,     6] loss: 0.839\n",
            "[1,     7] loss: 1.062\n",
            "[1,     8] loss: 0.980\n",
            "[1,     9] loss: 0.880\n",
            "[1,    10] loss: 0.806\n",
            "[1,    11] loss: 0.619\n",
            "[1,    12] loss: 0.758\n",
            "[1,    13] loss: 0.799\n",
            "[1,    14] loss: 0.595\n",
            "[1,    15] loss: 0.563\n",
            "[1,    16] loss: 0.398\n",
            "[1,    17] loss: 1.014\n",
            "[1,    18] loss: 0.584\n",
            "[1,    19] loss: 0.622\n",
            "[1,    20] loss: 0.584\n",
            "[2,     1] loss: 0.509\n",
            "[2,     2] loss: 0.653\n",
            "[2,     3] loss: 0.534\n",
            "[2,     4] loss: 0.350\n",
            "[2,     5] loss: 0.600\n",
            "[2,     6] loss: 0.380\n",
            "[2,     7] loss: 0.639\n",
            "[2,     8] loss: 0.199\n",
            "[2,     9] loss: 0.362\n",
            "[2,    10] loss: 0.404\n",
            "[2,    11] loss: 0.379\n",
            "[2,    12] loss: 0.226\n",
            "[2,    13] loss: 0.414\n",
            "[2,    14] loss: 0.250\n",
            "[2,    15] loss: 0.271\n",
            "[2,    16] loss: 0.260\n",
            "[2,    17] loss: 0.363\n",
            "[2,    18] loss: 0.313\n",
            "[2,    19] loss: 0.679\n",
            "[2,    20] loss: 0.196\n",
            "[3,     1] loss: 0.102\n",
            "[3,     2] loss: 0.273\n",
            "[3,     3] loss: 0.356\n",
            "[3,     4] loss: 0.197\n",
            "[3,     5] loss: 0.514\n",
            "[3,     6] loss: 0.359\n",
            "[3,     7] loss: 0.172\n",
            "[3,     8] loss: 0.339\n",
            "[3,     9] loss: 0.486\n",
            "[3,    10] loss: 0.472\n",
            "[3,    11] loss: 0.468\n",
            "[3,    12] loss: 0.225\n",
            "[3,    13] loss: 0.237\n",
            "[3,    14] loss: 0.124\n",
            "[3,    15] loss: 0.269\n",
            "[3,    16] loss: 0.269\n",
            "[3,    17] loss: 0.162\n",
            "[3,    18] loss: 0.201\n",
            "[3,    19] loss: 0.187\n",
            "[3,    20] loss: 0.233\n",
            "[4,     1] loss: 0.712\n",
            "[4,     2] loss: 0.220\n",
            "[4,     3] loss: 0.241\n",
            "[4,     4] loss: 0.663\n",
            "[4,     5] loss: 0.098\n",
            "[4,     6] loss: 0.252\n",
            "[4,     7] loss: 0.340\n",
            "[4,     8] loss: 0.239\n",
            "[4,     9] loss: 0.497\n",
            "[4,    10] loss: 0.336\n",
            "[4,    11] loss: 0.161\n",
            "[4,    12] loss: 0.206\n",
            "[4,    13] loss: 0.188\n",
            "[4,    14] loss: 0.331\n",
            "[4,    15] loss: 0.114\n",
            "[4,    16] loss: 0.198\n",
            "[4,    17] loss: 0.209\n",
            "[4,    18] loss: 0.180\n",
            "[4,    19] loss: 0.115\n",
            "[4,    20] loss: 0.510\n",
            "[5,     1] loss: 0.101\n",
            "[5,     2] loss: 0.168\n",
            "[5,     3] loss: 0.121\n",
            "[5,     4] loss: 0.390\n",
            "[5,     5] loss: 0.120\n",
            "[5,     6] loss: 0.231\n",
            "[5,     7] loss: 0.088\n",
            "[5,     8] loss: 0.301\n",
            "[5,     9] loss: 0.247\n",
            "[5,    10] loss: 0.125\n",
            "[5,    11] loss: 0.136\n",
            "[5,    12] loss: 0.177\n",
            "[5,    13] loss: 0.276\n",
            "[5,    14] loss: 0.372\n",
            "[5,    15] loss: 0.347\n",
            "[5,    16] loss: 0.147\n",
            "[5,    17] loss: 0.123\n",
            "[5,    18] loss: 0.163\n",
            "[5,    19] loss: 0.075\n",
            "[5,    20] loss: 0.395\n",
            "[6,     1] loss: 0.616\n",
            "[6,     2] loss: 0.405\n",
            "[6,     3] loss: 0.714\n",
            "[6,     4] loss: 0.605\n",
            "[6,     5] loss: 0.132\n",
            "[6,     6] loss: 0.263\n",
            "[6,     7] loss: 0.146\n",
            "[6,     8] loss: 0.213\n",
            "[6,     9] loss: 0.195\n",
            "[6,    10] loss: 0.312\n",
            "[6,    11] loss: 0.335\n",
            "[6,    12] loss: 0.160\n",
            "[6,    13] loss: 0.298\n",
            "[6,    14] loss: 0.306\n",
            "[6,    15] loss: 0.138\n",
            "[6,    16] loss: 0.106\n",
            "[6,    17] loss: 0.205\n",
            "[6,    18] loss: 0.433\n",
            "[6,    19] loss: 0.090\n",
            "[6,    20] loss: 0.108\n",
            "[7,     1] loss: 0.440\n",
            "[7,     2] loss: 0.142\n",
            "[7,     3] loss: 0.170\n",
            "[7,     4] loss: 0.057\n",
            "[7,     5] loss: 0.217\n",
            "[7,     6] loss: 0.310\n",
            "[7,     7] loss: 0.065\n",
            "[7,     8] loss: 0.625\n",
            "[7,     9] loss: 0.116\n",
            "[7,    10] loss: 0.050\n",
            "[7,    11] loss: 0.116\n",
            "[7,    12] loss: 0.087\n",
            "[7,    13] loss: 0.269\n",
            "[7,    14] loss: 0.358\n",
            "[7,    15] loss: 0.484\n",
            "[7,    16] loss: 0.500\n",
            "[7,    17] loss: 0.170\n",
            "[7,    18] loss: 0.242\n",
            "[7,    19] loss: 0.080\n",
            "[7,    20] loss: 0.636\n",
            "[8,     1] loss: 0.157\n",
            "[8,     2] loss: 0.147\n",
            "[8,     3] loss: 0.171\n",
            "[8,     4] loss: 0.394\n",
            "[8,     5] loss: 0.152\n",
            "[8,     6] loss: 0.073\n",
            "[8,     7] loss: 0.187\n",
            "[8,     8] loss: 0.054\n",
            "[8,     9] loss: 0.199\n",
            "[8,    10] loss: 0.030\n",
            "[8,    11] loss: 0.049\n",
            "[8,    12] loss: 0.233\n",
            "[8,    13] loss: 0.098\n",
            "[8,    14] loss: 0.492\n",
            "[8,    15] loss: 0.106\n",
            "[8,    16] loss: 0.307\n",
            "[8,    17] loss: 0.054\n",
            "[8,    18] loss: 0.442\n",
            "[8,    19] loss: 0.184\n",
            "[8,    20] loss: 0.083\n",
            "[9,     1] loss: 0.153\n",
            "[9,     2] loss: 0.335\n",
            "[9,     3] loss: 0.071\n",
            "[9,     4] loss: 0.250\n",
            "[9,     5] loss: 0.166\n",
            "[9,     6] loss: 0.467\n",
            "[9,     7] loss: 0.456\n",
            "[9,     8] loss: 0.147\n",
            "[9,     9] loss: 0.251\n",
            "[9,    10] loss: 0.203\n",
            "[9,    11] loss: 0.206\n",
            "[9,    12] loss: 0.092\n",
            "[9,    13] loss: 0.139\n",
            "[9,    14] loss: 0.125\n",
            "[9,    15] loss: 0.081\n",
            "[9,    16] loss: 0.157\n",
            "[9,    17] loss: 0.100\n",
            "[9,    18] loss: 0.095\n",
            "[9,    19] loss: 0.038\n",
            "[9,    20] loss: 0.015\n",
            "[10,     1] loss: 0.406\n",
            "[10,     2] loss: 0.174\n",
            "[10,     3] loss: 0.278\n",
            "[10,     4] loss: 0.098\n",
            "[10,     5] loss: 0.038\n",
            "[10,     6] loss: 0.087\n",
            "[10,     7] loss: 0.251\n",
            "[10,     8] loss: 0.060\n",
            "[10,     9] loss: 0.159\n",
            "[10,    10] loss: 0.079\n",
            "[10,    11] loss: 0.206\n",
            "[10,    12] loss: 0.296\n",
            "[10,    13] loss: 0.074\n",
            "[10,    14] loss: 0.064\n",
            "[10,    15] loss: 0.136\n",
            "[10,    16] loss: 0.301\n",
            "[10,    17] loss: 0.052\n",
            "[10,    18] loss: 0.094\n",
            "[10,    19] loss: 0.098\n",
            "[10,    20] loss: 0.202\n",
            "[11,     1] loss: 0.095\n",
            "[11,     2] loss: 0.257\n",
            "[11,     3] loss: 0.066\n",
            "[11,     4] loss: 0.090\n",
            "[11,     5] loss: 0.118\n",
            "[11,     6] loss: 0.124\n",
            "[11,     7] loss: 0.685\n",
            "[11,     8] loss: 0.297\n",
            "[11,     9] loss: 0.321\n",
            "[11,    10] loss: 0.193\n",
            "[11,    11] loss: 0.247\n",
            "[11,    12] loss: 0.037\n",
            "[11,    13] loss: 0.298\n",
            "[11,    14] loss: 0.186\n",
            "[11,    15] loss: 0.159\n",
            "[11,    16] loss: 0.177\n",
            "[11,    17] loss: 0.226\n",
            "[11,    18] loss: 0.135\n",
            "[11,    19] loss: 0.178\n",
            "[11,    20] loss: 1.411\n",
            "[12,     1] loss: 0.044\n",
            "[12,     2] loss: 0.131\n",
            "[12,     3] loss: 0.136\n",
            "[12,     4] loss: 0.287\n",
            "[12,     5] loss: 0.139\n",
            "[12,     6] loss: 0.080\n",
            "[12,     7] loss: 0.093\n",
            "[12,     8] loss: 0.290\n",
            "[12,     9] loss: 0.309\n",
            "[12,    10] loss: 0.147\n",
            "[12,    11] loss: 0.131\n",
            "[12,    12] loss: 0.033\n",
            "[12,    13] loss: 0.108\n",
            "[12,    14] loss: 0.110\n",
            "[12,    15] loss: 0.144\n",
            "[12,    16] loss: 0.128\n",
            "[12,    17] loss: 0.336\n",
            "[12,    18] loss: 0.040\n",
            "[12,    19] loss: 0.086\n",
            "[12,    20] loss: 0.147\n",
            "[13,     1] loss: 0.049\n",
            "[13,     2] loss: 0.124\n",
            "[13,     3] loss: 0.256\n",
            "[13,     4] loss: 0.061\n",
            "[13,     5] loss: 0.050\n",
            "[13,     6] loss: 0.108\n",
            "[13,     7] loss: 0.064\n",
            "[13,     8] loss: 0.043\n",
            "[13,     9] loss: 0.013\n",
            "[13,    10] loss: 0.155\n",
            "[13,    11] loss: 0.073\n",
            "[13,    12] loss: 0.303\n",
            "[13,    13] loss: 0.842\n",
            "[13,    14] loss: 0.174\n",
            "[13,    15] loss: 0.095\n",
            "[13,    16] loss: 0.484\n",
            "[13,    17] loss: 0.074\n",
            "[13,    18] loss: 0.170\n",
            "[13,    19] loss: 0.040\n",
            "[13,    20] loss: 0.327\n",
            "[14,     1] loss: 0.557\n",
            "[14,     2] loss: 0.163\n",
            "[14,     3] loss: 0.043\n",
            "[14,     4] loss: 0.135\n",
            "[14,     5] loss: 0.027\n",
            "[14,     6] loss: 0.728\n",
            "[14,     7] loss: 0.109\n",
            "[14,     8] loss: 0.082\n",
            "[14,     9] loss: 0.102\n",
            "[14,    10] loss: 0.051\n",
            "[14,    11] loss: 0.032\n",
            "[14,    12] loss: 0.096\n",
            "[14,    13] loss: 0.084\n",
            "[14,    14] loss: 0.077\n",
            "[14,    15] loss: 0.162\n",
            "[14,    16] loss: 0.077\n",
            "[14,    17] loss: 0.061\n",
            "[14,    18] loss: 0.255\n",
            "[14,    19] loss: 0.074\n",
            "[14,    20] loss: 0.009\n",
            "[15,     1] loss: 0.230\n",
            "[15,     2] loss: 0.067\n",
            "[15,     3] loss: 0.558\n",
            "[15,     4] loss: 0.036\n",
            "[15,     5] loss: 0.153\n",
            "[15,     6] loss: 0.134\n",
            "[15,     7] loss: 0.178\n",
            "[15,     8] loss: 0.099\n",
            "[15,     9] loss: 0.054\n",
            "[15,    10] loss: 0.142\n",
            "[15,    11] loss: 0.112\n",
            "[15,    12] loss: 0.074\n",
            "[15,    13] loss: 0.058\n",
            "[15,    14] loss: 0.143\n",
            "[15,    15] loss: 0.076\n",
            "[15,    16] loss: 0.105\n",
            "[15,    17] loss: 0.224\n",
            "[15,    18] loss: 0.123\n",
            "[15,    19] loss: 0.036\n",
            "[15,    20] loss: 0.002\n",
            "[16,     1] loss: 0.087\n",
            "[16,     2] loss: 0.056\n",
            "[16,     3] loss: 0.306\n",
            "[16,     4] loss: 0.109\n",
            "[16,     5] loss: 0.156\n",
            "[16,     6] loss: 0.469\n",
            "[16,     7] loss: 0.160\n",
            "[16,     8] loss: 0.342\n",
            "[16,     9] loss: 0.017\n",
            "[16,    10] loss: 0.141\n",
            "[16,    11] loss: 0.048\n",
            "[16,    12] loss: 0.029\n",
            "[16,    13] loss: 0.318\n",
            "[16,    14] loss: 0.062\n",
            "[16,    15] loss: 0.160\n",
            "[16,    16] loss: 0.157\n",
            "[16,    17] loss: 0.186\n",
            "[16,    18] loss: 0.085\n",
            "[16,    19] loss: 0.113\n",
            "[16,    20] loss: 0.012\n",
            "[17,     1] loss: 0.174\n",
            "[17,     2] loss: 0.223\n",
            "[17,     3] loss: 0.048\n",
            "[17,     4] loss: 0.423\n",
            "[17,     5] loss: 0.177\n",
            "[17,     6] loss: 0.052\n",
            "[17,     7] loss: 0.096\n",
            "[17,     8] loss: 0.052\n",
            "[17,     9] loss: 0.083\n",
            "[17,    10] loss: 0.084\n",
            "[17,    11] loss: 0.048\n",
            "[17,    12] loss: 0.099\n",
            "[17,    13] loss: 0.073\n",
            "[17,    14] loss: 0.047\n",
            "[17,    15] loss: 0.102\n",
            "[17,    16] loss: 0.069\n",
            "[17,    17] loss: 0.463\n",
            "[17,    18] loss: 0.159\n",
            "[17,    19] loss: 0.031\n",
            "[17,    20] loss: 0.007\n",
            "[18,     1] loss: 0.054\n",
            "[18,     2] loss: 0.078\n",
            "[18,     3] loss: 0.079\n",
            "[18,     4] loss: 0.105\n",
            "[18,     5] loss: 0.119\n",
            "[18,     6] loss: 0.053\n",
            "[18,     7] loss: 0.147\n",
            "[18,     8] loss: 0.020\n",
            "[18,     9] loss: 0.105\n",
            "[18,    10] loss: 0.042\n",
            "[18,    11] loss: 0.064\n",
            "[18,    12] loss: 0.193\n",
            "[18,    13] loss: 0.028\n",
            "[18,    14] loss: 0.040\n",
            "[18,    15] loss: 0.092\n",
            "[18,    16] loss: 0.140\n",
            "[18,    17] loss: 0.404\n",
            "[18,    18] loss: 0.277\n",
            "[18,    19] loss: 0.099\n",
            "[18,    20] loss: 1.061\n",
            "[19,     1] loss: 0.149\n",
            "[19,     2] loss: 0.306\n",
            "[19,     3] loss: 0.068\n",
            "[19,     4] loss: 0.212\n",
            "[19,     5] loss: 0.024\n",
            "[19,     6] loss: 0.093\n",
            "[19,     7] loss: 0.126\n",
            "[19,     8] loss: 0.123\n",
            "[19,     9] loss: 0.139\n",
            "[19,    10] loss: 0.037\n",
            "[19,    11] loss: 0.057\n",
            "[19,    12] loss: 0.095\n",
            "[19,    13] loss: 0.351\n",
            "[19,    14] loss: 0.064\n",
            "[19,    15] loss: 0.553\n",
            "[19,    16] loss: 0.078\n",
            "[19,    17] loss: 0.071\n",
            "[19,    18] loss: 0.350\n",
            "[19,    19] loss: 0.115\n",
            "[19,    20] loss: 0.212\n",
            "[20,     1] loss: 0.046\n",
            "[20,     2] loss: 0.199\n",
            "[20,     3] loss: 0.422\n",
            "[20,     4] loss: 0.052\n",
            "[20,     5] loss: 0.247\n",
            "[20,     6] loss: 0.192\n",
            "[20,     7] loss: 0.109\n",
            "[20,     8] loss: 0.097\n",
            "[20,     9] loss: 0.041\n",
            "[20,    10] loss: 0.104\n",
            "[20,    11] loss: 0.182\n",
            "[20,    12] loss: 0.042\n",
            "[20,    13] loss: 0.098\n",
            "[20,    14] loss: 0.047\n",
            "[20,    15] loss: 0.044\n",
            "[20,    16] loss: 0.081\n",
            "[20,    17] loss: 0.301\n",
            "[20,    18] loss: 0.178\n",
            "[20,    19] loss: 0.037\n",
            "[20,    20] loss: 0.011\n"
          ],
          "name": "stdout"
        }
      ]
    },
    {
      "cell_type": "code",
      "metadata": {
        "id": "BktvXQ5pn4KU",
        "colab_type": "code",
        "colab": {
          "base_uri": "https://localhost:8080/",
          "height": 282
        },
        "outputId": "96c247a4-598f-4463-b2c6-7767d99dec33"
      },
      "source": [
        "plt.plot(running_loss_list)\n"
      ],
      "execution_count": 21,
      "outputs": [
        {
          "output_type": "execute_result",
          "data": {
            "text/plain": [
              "[<matplotlib.lines.Line2D at 0x7f4781e5f518>]"
            ]
          },
          "metadata": {
            "tags": []
          },
          "execution_count": 21
        },
        {
          "output_type": "display_data",
          "data": {
            "image/png": "[encoded data removed]",
            "text/plain": [
              "<Figure size 432x288 with 1 Axes>"
            ]
          },
          "metadata": {
            "tags": [],
            "needs_background": "light"
          }
        }
      ]
    },
    {
      "cell_type": "code",
      "metadata": {
        "id": "MVgnGYOqqf6A",
        "colab_type": "code",
        "colab": {
          "base_uri": "https://localhost:8080/",
          "height": 34
        },
        "outputId": "bf1e3d50-958d-4d75-c740-8a0a37c9dfdb"
      },
      "source": [
        "correct = 0\n",
        "total = 0\n",
        "with torch.no_grad():\n",
        "    for data in train_loader:\n",
        "        images, labels = data\n",
        "        outputs = model(images.float())\n",
        "        _, predicted = torch.max(outputs.data, 1)\n",
        "        total += labels.size(0)\n",
        "        correct += (predicted == labels).sum().item()\n",
        "print('Accuracy of the network on train images: ', correct/total)"
      ],
      "execution_count": 22,
      "outputs": [
        {
          "output_type": "stream",
          "text": [
            "Accuracy of the network on train images:  0.9481865284974094\n"
          ],
          "name": "stdout"
        }
      ]
    },
    {
      "cell_type": "code",
      "metadata": {
        "id": "bQmSZw6HfYbc",
        "colab_type": "code",
        "colab": {}
      },
      "source": [
        "#saving model\n",
        "\n",
        "# model.save_state_dict('mytraining.pt')\n",
        "torch.save(model.state_dict(),'/content/drive/My Drive/Colab Notebooks/Bear_Prediction/bear_pred_model.pt')"
      ],
      "execution_count": 23,
      "outputs": []
    },
    {
      "cell_type": "code",
      "metadata": {
        "id": "LnyXSh3xglev",
        "colab_type": "code",
        "colab": {}
      },
      "source": [
        "#loading the model\n",
        "\n",
        "model = torch.load('/content/drive/My Drive/Colab Notebooks/Bear_Prediction/bear_pred_model.pt')\n"
      ],
      "execution_count": 25,
      "outputs": []
    },
    {
      "cell_type": "code",
      "metadata": {
        "id": "4nFJBXwrVUHm",
        "colab_type": "code",
        "colab": {}
      },
      "source": [
        ""
      ],
      "execution_count": null,
      "outputs": []
    }
  ]
}